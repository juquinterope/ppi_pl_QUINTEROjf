{
 "cells": [
  {
   "cell_type": "markdown",
   "metadata": {},
   "source": [
    "# Import and Load data"
   ]
  },
  {
   "cell_type": "code",
   "execution_count": 1,
   "metadata": {
    "tags": []
   },
   "outputs": [],
   "source": [
    "import gc\n",
    "import pandas as pd # type:ignore\n",
    "import numpy as np # type:ignore\n",
    "from sklearn.preprocessing import OneHotEncoder, StandardScaler, LabelEncoder # type:ignore\n",
    "from scipy.sparse import csr_matrix # type:ignore\n",
    "from scipy.stats import zscore # type:ignore\n",
    "from sklearn.decomposition import PCA # type:ignore\n",
    "from sklearn.model_selection import GridSearchCV, train_test_split # type:ignore\n",
    "from sklearn.linear_model import LogisticRegression # type:ignore\n",
    "from sklearn.metrics import classification_report, accuracy_score # type:ignore\n",
    "import matplotlib.pyplot as plt # type:ignore\n",
    "import seaborn as sns # type:ignore"
   ]
  },
  {
   "cell_type": "code",
   "execution_count": 2,
   "metadata": {
    "tags": []
   },
   "outputs": [
    {
     "name": "stdout",
     "output_type": "stream",
     "text": [
      "<class 'pandas.core.frame.DataFrame'>\n",
      "RangeIndex: 3116945 entries, 0 to 3116944\n",
      "Data columns (total 22 columns):\n",
      " #   Column                Dtype  \n",
      "---  ------                -----  \n",
      " 0   id                    int64  \n",
      " 1   class                 object \n",
      " 2   cap-diameter          float64\n",
      " 3   cap-shape             object \n",
      " 4   cap-surface           object \n",
      " 5   cap-color             object \n",
      " 6   does-bruise-or-bleed  object \n",
      " 7   gill-attachment       object \n",
      " 8   gill-spacing          object \n",
      " 9   gill-color            object \n",
      " 10  stem-height           float64\n",
      " 11  stem-width            float64\n",
      " 12  stem-root             object \n",
      " 13  stem-surface          object \n",
      " 14  stem-color            object \n",
      " 15  veil-type             object \n",
      " 16  veil-color            object \n",
      " 17  has-ring              object \n",
      " 18  ring-type             object \n",
      " 19  spore-print-color     object \n",
      " 20  habitat               object \n",
      " 21  season                object \n",
      "dtypes: float64(3), int64(1), object(18)\n",
      "memory usage: 523.2+ MB\n"
     ]
    }
   ],
   "source": [
    "# Load the datasets\n",
    "train_data = pd.read_csv('train.csv')\n",
    "train_data.info()"
   ]
  },
  {
   "cell_type": "markdown",
   "metadata": {},
   "source": [
    "# Clean the data"
   ]
  },
  {
   "cell_type": "code",
   "execution_count": 3,
   "metadata": {
    "tags": []
   },
   "outputs": [
    {
     "data": {
      "text/plain": [
       "id                            0\n",
       "class                         0\n",
       "cap-diameter                  4\n",
       "cap-shape                    40\n",
       "cap-surface              671023\n",
       "cap-color                    12\n",
       "does-bruise-or-bleed          8\n",
       "gill-attachment          523936\n",
       "gill-spacing            1258435\n",
       "gill-color                   57\n",
       "stem-height                   0\n",
       "stem-width                    0\n",
       "stem-root               2757023\n",
       "stem-surface            1980861\n",
       "stem-color                   38\n",
       "veil-type               2957493\n",
       "veil-color              2740947\n",
       "has-ring                     24\n",
       "ring-type                128880\n",
       "spore-print-color       2849682\n",
       "habitat                      45\n",
       "season                        0\n",
       "dtype: int64"
      ]
     },
     "execution_count": 3,
     "metadata": {},
     "output_type": "execute_result"
    }
   ],
   "source": [
    "# Check missing values\n",
    "train_data.isnull().sum()"
   ]
  },
  {
   "cell_type": "code",
   "execution_count": 4,
   "metadata": {
    "tags": []
   },
   "outputs": [
    {
     "name": "stdout",
     "output_type": "stream",
     "text": [
      "Column: id\n",
      "Number of unique values: 3116945\n",
      "Categories/Values: [      0       1       2 ... 3116942 3116943 3116944]\n",
      "--------------------------------------------------------------------------------\n",
      "Column: class\n",
      "Number of unique values: 2\n",
      "Categories/Values: ['e' 'p']\n",
      "--------------------------------------------------------------------------------\n",
      "Column: cap-diameter\n",
      "Number of unique values: 3914\n",
      "Categories/Values: [ 8.8   4.51  6.94 ... 38.11 55.63 54.07]\n",
      "--------------------------------------------------------------------------------\n",
      "Column: cap-shape\n",
      "Number of unique values: 75\n",
      "Categories/Values: ['f' 'x' 'p' 'b' 'o' 'c' 's' 'd' 'e' 'n' nan 'w' 'k' 'l' '19.29' '5 f' 't'\n",
      " 'g' 'z' 'a' '2.85' '7 x' 'r' 'u' '3.55' 'is s' 'y' '4.22' '3.6' '21.56'\n",
      " 'i' '6 x' '24.16' '8' 'm' 'ring-type' '10.13' 'is p' '7.43' 'h' '0.82'\n",
      " '10.46' '2.77' '2.94' '12.62' '5.15' '19.04' '4.97' '49.21' 'b f' '9.13'\n",
      " '1.66' '3.37' '7.21' '3.25' '11.12' '3 x' '4.3' '7.41' '6.21' '8.29'\n",
      " '54.78' '20.25' '3.52' '3.04' '2.63' '3.91' '6.44' '8.3' '7.6' '17.44'\n",
      " '4.33' '2.82' '6.53' '19.06']\n",
      "--------------------------------------------------------------------------------\n",
      "Column: cap-surface\n",
      "Number of unique values: 84\n",
      "Categories/Values: ['s' 'h' 'y' 'l' 't' 'e' 'g' nan 'd' 'i' 'w' 'k' '15.94' 'f' 'n' 'r' 'o'\n",
      " 'a' 'u' 'z' '2.7' 'does l' '5.07' 'p' 'b' 'm' 'cap-diameter' '1.43' 'x'\n",
      " '7.14' 'c' 'is h' 'does t' '0.85' '6.57' '12.79' '6.45' '4.66' '23.18'\n",
      " '3.06' '16.39' '4.21' 'veil-color' '11.78' '8.1' 'has-ring' 'does h'\n",
      " '1.42' 'class' 'has h' 'does None' '10.83' 'season' '8.96' '14.04' '5.73'\n",
      " 'is None' '24.38' '2.81' '0.88' '2.11' '2.79' 'ring-type'\n",
      " 'does-bruise-or-bleed' '4.93' 'spore-print-color' 'spore-color' '2.92'\n",
      " '2.51' '7.99' 'is y' '3.64' '3.33' '41.91' '12.2' '8.01' '9.22' '1.14'\n",
      " '6.49' '10.34' '10.1' '1.08' 'is k' '0.87']\n",
      "--------------------------------------------------------------------------------\n",
      "Column: cap-color\n",
      "Number of unique values: 79\n",
      "Categories/Values: ['u' 'o' 'b' 'g' 'w' 'n' 'e' 'y' 'r' 'p' 'k' 'l' 'i' 'h' 'd' 's' 'a' 'f'\n",
      " '2.05' 'season' 'c' 'x' '13' '7.72' 'm' 'z' '6.76' '7.15' 't' 'ring-type'\n",
      " nan 'class' '12.89' '8.83' '24.75' '22.38' '1.51' '10.1' '17.94' '3.57'\n",
      " 'does n' '4.89' '6.2' '21.53' '6.41' '4.98' '3.95' 'does-bruise-or-bleed'\n",
      " '6.59' '5.25' 'veil-color' '6.9' '5.41' '11.13' '3.11' '2.57' '17.93'\n",
      " '2.7' '8.57' '11.92' '3.08' '2.82' '4.24' '17.19' '3.34' '7' '2.9' '6.36'\n",
      " '5.91' '10.56' '26.89' '4. n' '20.62' 'stem-surface' '20.02' '20' '25.98'\n",
      " '8.67' '9.02']\n",
      "--------------------------------------------------------------------------------\n",
      "Column: does-bruise-or-bleed\n",
      "Number of unique values: 27\n",
      "Categories/Values: ['f' 't' 'd' 'has-ring' 'w' 'o' 'b' 'x' 'p' nan 'g' 'y' 'r' 'a' 'l' 'i'\n",
      " 'c' 'n' 'z' 's' 'k' 'h' '3.43' 'e' '4.42' '2.9' 'u']\n",
      "--------------------------------------------------------------------------------\n",
      "Column: gill-attachment\n",
      "Number of unique values: 79\n",
      "Categories/Values: ['a' 'x' 's' 'd' 'e' nan 'f' 'p' 'l' 'm' 'b' '32.54' 'n' 'g' 'i' 'u'\n",
      " 'does-bruise-or-bleed' 't' 'o' 'c' 'w' '4.64' 'k' 'r' '4.77' 'h' 'p p'\n",
      " '7.92' 'z' 'season' 'y' '8.79' 'does None' 'has f' 'ring-type' '16.33'\n",
      " '10.85' '20.07' '2.82' '7.86' '3.91' 'does' '10.23' '6.74' '0.92' '3.45'\n",
      " '1' 'is a' '3.71' '50.44' '11.62' 'has d' '1.32' '8.47' '6.11' '2.41'\n",
      " '2.54' '6.32' '19.65' '15.49' '4.01' '8.37' 'does f' '28.7' '13.15'\n",
      " '1.37' '28.15' '7.09' '9.88' '2.67' '18.21' '1.48' '5.93' '1.51' '16.27'\n",
      " '11.26' '2.79' 'is f' '13.94']\n",
      "--------------------------------------------------------------------------------\n",
      "Column: gill-spacing\n",
      "Number of unique values: 49\n",
      "Categories/Values: ['c' nan 'd' 'f' 'x' 'b' 'a' '3.61' '2.69' 'k' '4.8' 'e' 'y' 'class' 's'\n",
      " '9.01' 'p' '3.92' '5.22' '6.67' '4.04' 't' '0.73' 'i' '3.57' '24.38' 'w'\n",
      " 'h' 'cap-surface' 'l' '1' '12.27' '5.42' 'r' '1.6' 'n' 'g' '0' '3.81'\n",
      " '4.09' '1.36' '3.24' '5.55' '5.7' '3.62' 'does f' '6.4' '1.88' '55.13']\n",
      "--------------------------------------------------------------------------------\n",
      "Column: gill-color\n",
      "Number of unique values: 64\n",
      "Categories/Values: ['w' 'n' 'g' 'k' 'y' 'f' 'p' 'o' 'b' 'u' 'e' 'r' 'd' 't' '3.45' 'z' '5'\n",
      " '3.39' 'season' 'h' 'x' 's' '4' 'class' 'c' 'm' 'spacing' '0.92' nan\n",
      " '18.12' 'l' 'does w' 'a' '7.59' '8.06' '6.19' 'has-ring' '4.49' '9.46'\n",
      " '5.01' 'ring-type' '3.4' 'i' '17' '10.07' 'stem-root' '20.6'\n",
      " 'spore-print-color' '18.03' 'does-bruise-or-bleed' '8.83' 'habitat'\n",
      " '10.21' '4.64' '6.4' 'is y' 'e y' '1.91' 'does n' '16.41' '6.41'\n",
      " 'veil-type' '20.44' '8.37']\n",
      "--------------------------------------------------------------------------------\n",
      "Column: stem-height\n",
      "Number of unique values: 2749\n",
      "Categories/Values: [ 4.51  4.79  6.85 ... 26.09 47.33 26.53]\n",
      "--------------------------------------------------------------------------------\n",
      "Column: stem-width\n",
      "Number of unique values: 5836\n",
      "Categories/Values: [15.39  6.48  9.93 ... 66.91 79.92 53.44]\n",
      "--------------------------------------------------------------------------------\n",
      "Column: stem-root\n",
      "Number of unique values: 39\n",
      "Categories/Values: [nan 'b' 'c' 'r' 's' 'f' '5.59' '2.77' '20.01' 'y' 'o' 'k' 'd' 'n' 'w' 'u'\n",
      " 'p' 'x' 'i' '10.87' 'a' '3.63' 't' 'm' 'l' 'h' 'g' '16.88' '15.69' '1.48'\n",
      " '3.23' 'e' '20.0' '18.06' 'z' 'spore-print-color' '3.49' '13.03' '7.15']\n",
      "--------------------------------------------------------------------------------\n",
      "Column: stem-surface\n",
      "Number of unique values: 61\n",
      "Categories/Values: [nan 'y' 's' 't' 'g' 'h' 'k' 'i' 'f' 'l' 'd' 'x' '12.04' 'w' 'a' 'o' 'c'\n",
      " 'n' 'm' 'e' 'p' 'z' '6.58' '4.34' 'b' '3.89' 'r' '25.83' '1.59' '0.0'\n",
      " '5.97' '5.81' 'u' 'season' '10.48' '3.68' '5.56' '4.41' '5.48' '5.51'\n",
      " 'class' 'has-ring' '13.1' '17.46' '5.35' '7.23' 'does None' '1.03'\n",
      " 'does s' '7.45' 'has h' 'does-bruise-or-bleed' '1.94' '49.46' '19.35'\n",
      " '2.68' '4.74' 'spore-print-color' '10.93' '24.12' '13.94']\n",
      "--------------------------------------------------------------------------------\n",
      "Column: stem-color\n",
      "Number of unique values: 60\n",
      "Categories/Values: ['w' 'o' 'n' 'y' 'e' 'u' 'p' 'f' 'g' 'r' 'k' 'l' 'b' '3.13' 't' 'z' 'a'\n",
      " 'h' 'd' nan 's' '7.33' 'is n' 'i' 'c' 'x' 'e n' '1.75' 'm' '33.52'\n",
      " 'ring-type' '2.78' 'spore-print-color' '23.59' '8.32' 'is w' '26.4'\n",
      " '4.75' '7.84' 'class' '2.75' '8.49' '4.49' '1.41' '17.45' '3.53' '12.92'\n",
      " '3.98' '20.07' '7.7' '22.6' '6.31' '6.09' '3.56' '3.37' '4.62' '2.54'\n",
      " '39.51' '18.06' '4.33']\n",
      "--------------------------------------------------------------------------------\n",
      "Column: veil-type\n",
      "Number of unique values: 23\n",
      "Categories/Values: [nan 'u' 'd' 'a' 'h' '21.11' 'g' 'c' 'e' 'y' 'i' 'f' 'is None' 't' 'w' 'p'\n",
      " 'b' 's' 'k' 'r' 'l' 'n' '5.94']\n",
      "--------------------------------------------------------------------------------\n",
      "Column: veil-color\n",
      "Number of unique values: 25\n",
      "Categories/Values: [nan 'n' 'w' 'k' 'y' 'e' 'u' 'p' 'd' 'g' 'r' 'h' 's' '8.25' 't' 'c' 'o'\n",
      " 'i' '2.49' 'f' 'a' 'b' 'l' 'z' '3.32']\n",
      "--------------------------------------------------------------------------------\n",
      "Column: has-ring\n",
      "Number of unique values: 24\n",
      "Categories/Values: ['f' 't' 'h' 'r' 'y' 'c' 'e' 'g' 'l' 's' nan 'p' 'x' 'k' 'z' 'f has-ring'\n",
      " 'd' 'o' 'n' 'm' 'i' '10.3' 'w' 'a']\n",
      "--------------------------------------------------------------------------------\n",
      "Column: ring-type\n",
      "Number of unique values: 41\n",
      "Categories/Values: ['f' 'z' 'e' nan 'p' 'l' 'g' 'r' 'm' 'y' 'h' 'o' 't' 'ring-type' 'a' 'd'\n",
      " 's' 'x' '4' 'b' '15' 'u' 'n' 'w' 'does f' '3.12' 'i' 'season' 'k' 'c'\n",
      " 'does-bruise-or-bleed' '11' '23.6' '1' '14' '2' 'spore-print-color'\n",
      " 'class' 'sp' '2.87' '8.25']\n",
      "--------------------------------------------------------------------------------\n",
      "Column: spore-print-color\n",
      "Number of unique values: 33\n",
      "Categories/Values: [nan 'k' 'w' 'p' 'n' 'r' 'u' 'g' 't' 'f' 'd' 'l' 'y' 'a' 's' '2.49' 'e'\n",
      " 'o' 'c' 'b' '10 None' 'h' 'x' '9 None' 'i' 'm' 'veil-color' 'class'\n",
      " '2.62' 'season' '9.55' '6.36' '4.58']\n",
      "--------------------------------------------------------------------------------\n",
      "Column: habitat\n",
      "Number of unique values: 53\n",
      "Categories/Values: ['d' 'l' 'g' 'h' 'p' 'm' 'u' 'w' 'y' nan 'n' 'a' 's' 'k' 'habitat' 'z'\n",
      " '8.09' '17.1' 'b' 't' 'c' '9.28' 'ring-type' 'e' 'r'\n",
      " 'does-bruise-or-bleed' 'f' 'is w' 'o' '2.94' 'x' '4' 'is h' '5.56'\n",
      " 'class' 'i' '10.07' '7.31' '5.62' 'spore-print-color' 'cap-diameter'\n",
      " '3.11' '16.46' '7.37' 'veil-type' '17.38' '1.66' '6.63' '18.35' '6.75'\n",
      " '2.44' '3.68' '2.25']\n",
      "--------------------------------------------------------------------------------\n",
      "Column: season\n",
      "Number of unique values: 4\n",
      "Categories/Values: ['a' 'w' 'u' 's']\n",
      "--------------------------------------------------------------------------------\n"
     ]
    }
   ],
   "source": [
    "# Look the categories of each column\n",
    "for column in train_data.columns:\n",
    "        unique_values = train_data[column].unique()\n",
    "        print(f\"Column: {column}\")\n",
    "        print(f\"Number of unique values: {len(unique_values)}\")\n",
    "        print(f\"Categories/Values: {unique_values}\")\n",
    "        print(\"-\" * 80)"
   ]
  },
  {
   "cell_type": "code",
   "execution_count": 3,
   "metadata": {
    "tags": []
   },
   "outputs": [],
   "source": [
    "# Consider column categories\n",
    "\n",
    "def clean_column_categories(df):\n",
    "    \"\"\"\n",
    "    Cleans all columns in the DataFrame by:\n",
    "    - Ensuring columns are of category type unless they are numerical.\n",
    "    - Replacing NaN values with 'unknown'.\n",
    "    - Validating that single-character strings are kept as valid categories.\n",
    "    - Replacing invalid values with 'invalid'.\n",
    "    \n",
    "    Parameters:\n",
    "    df (pandas.DataFrame): The DataFrame to clean.\n",
    "    \n",
    "    Returns:\n",
    "    pandas.DataFrame: The cleaned DataFrame.\n",
    "    \"\"\"\n",
    "    \n",
    "    def clean_value(value):\n",
    "        \"\"\"\n",
    "        Cleans individual values based on the defined rules.\n",
    "        \"\"\"\n",
    "        if value == 'unknown':  # Preserve 'unknown' values\n",
    "            return value\n",
    "        elif isinstance(value, str) and len(value.strip()) == 1:\n",
    "            return value.strip()\n",
    "        else:\n",
    "            return 'invalid'\n",
    "    \n",
    "    for column in df.columns:\n",
    "        # Skip numerical columns\n",
    "        if pd.api.types.is_numeric_dtype(df[column]) or column == 'class':\n",
    "            continue\n",
    "        \n",
    "        # Convert to 'category' dtype if not numerical\n",
    "        df[column] = df[column].astype('category')\n",
    "        \n",
    "        # Add 'unknown' and 'invalid' to the category list\n",
    "        df[column] = df[column].cat.add_categories(['unknown', 'invalid'])\n",
    "        \n",
    "        # Replace NaN values with 'unknown' and apply the cleaning logic\n",
    "        df[column] = df[column].fillna('unknown').map(clean_value)\n",
    "    \n",
    "    return df\n"
   ]
  },
  {
   "cell_type": "code",
   "execution_count": 4,
   "metadata": {
    "tags": []
   },
   "outputs": [
    {
     "name": "stdout",
     "output_type": "stream",
     "text": [
      "class                   0\n",
      "cap-diameter            0\n",
      "cap-shape               0\n",
      "cap-surface             0\n",
      "cap-color               0\n",
      "does-bruise-or-bleed    0\n",
      "gill-attachment         0\n",
      "gill-spacing            0\n",
      "gill-color              0\n",
      "stem-height             0\n",
      "stem-width              0\n",
      "stem-root               0\n",
      "stem-surface            0\n",
      "stem-color              0\n",
      "veil-type               0\n",
      "veil-color              0\n",
      "has-ring                0\n",
      "ring-type               0\n",
      "spore-print-color       0\n",
      "habitat                 0\n",
      "season                  0\n",
      "dtype: int64\n"
     ]
    },
    {
     "data": {
      "text/plain": [
       "0"
      ]
     },
     "execution_count": 4,
     "metadata": {},
     "output_type": "execute_result"
    }
   ],
   "source": [
    "# Create a clean df\n",
    "clean_train_data = train_data.drop(columns=['id'])\n",
    "\n",
    "# Clean the categories\n",
    "clean_train_data = clean_column_categories(clean_train_data)\n",
    "\n",
    "# Fill null values in 'cap-diameter' with the mean\n",
    "clean_train_data['cap-diameter'] = clean_train_data['cap-diameter'].fillna(\n",
    "    clean_train_data['cap-diameter'].mean())\n",
    "# Show if there are null values in the df\n",
    "print(clean_train_data.isnull().sum())\n",
    "\n",
    "# Clear memory\n",
    "del train_data\n",
    "gc.collect()\n"
   ]
  },
  {
   "cell_type": "code",
   "execution_count": 7,
   "metadata": {
    "collapsed": true,
    "jupyter": {
     "outputs_hidden": true
    },
    "tags": []
   },
   "outputs": [
    {
     "name": "stdout",
     "output_type": "stream",
     "text": [
      "Column: class\n",
      "Number of unique values: 2\n",
      "Categories/Values: ['e' 'p']\n",
      "--------------------------------------------------------------------------------\n",
      "Column: cap-diameter\n",
      "Number of unique values: 3914\n",
      "Categories/Values: [ 8.8   4.51  6.94 ... 38.11 55.63 54.07]\n",
      "--------------------------------------------------------------------------------\n",
      "Column: cap-shape\n",
      "Number of unique values: 26\n",
      "Categories/Values: ['f' 'x' 'p' 'b' 'o' 'c' 's' 'd' 'e' 'n' 'unknown' 'w' 'k' 'l' 'invalid'\n",
      " 't' 'g' 'z' 'a' 'r' 'u' 'y' 'i' '8' 'm' 'h']\n",
      "--------------------------------------------------------------------------------\n",
      "Column: cap-surface\n",
      "Number of unique values: 25\n",
      "Categories/Values: ['s' 'h' 'y' 'l' 't' 'e' 'g' 'unknown' 'd' 'i' 'w' 'k' 'invalid' 'f' 'n'\n",
      " 'r' 'o' 'a' 'u' 'z' 'p' 'b' 'm' 'x' 'c']\n",
      "--------------------------------------------------------------------------------\n",
      "Column: cap-color\n",
      "Number of unique values: 26\n",
      "Categories/Values: ['u' 'o' 'b' 'g' 'w' 'n' 'e' 'y' 'r' 'p' 'k' 'l' 'i' 'h' 'd' 's' 'a' 'f'\n",
      " 'invalid' 'c' 'x' 'm' 'z' 't' 'unknown' '7']\n",
      "--------------------------------------------------------------------------------\n",
      "Column: does-bruise-or-bleed\n",
      "Number of unique values: 24\n",
      "Categories/Values: ['f' 't' 'd' 'invalid' 'w' 'o' 'b' 'x' 'p' 'unknown' 'g' 'y' 'r' 'a' 'l'\n",
      " 'i' 'c' 'n' 'z' 's' 'k' 'h' 'e' 'u']\n",
      "--------------------------------------------------------------------------------\n",
      "Column: gill-attachment\n",
      "Number of unique values: 26\n",
      "Categories/Values: ['a' 'x' 's' 'd' 'e' 'unknown' 'f' 'p' 'l' 'm' 'b' 'invalid' 'n' 'g' 'i'\n",
      " 'u' 't' 'o' 'c' 'w' 'k' 'r' 'h' 'z' 'y' '1']\n",
      "--------------------------------------------------------------------------------\n",
      "Column: gill-spacing\n",
      "Number of unique values: 23\n",
      "Categories/Values: ['c' 'unknown' 'd' 'f' 'x' 'b' 'a' 'invalid' 'k' 'e' 'y' 's' 'p' 't' 'i'\n",
      " 'w' 'h' 'l' '1' 'r' 'n' 'g' '0']\n",
      "--------------------------------------------------------------------------------\n",
      "Column: gill-color\n",
      "Number of unique values: 27\n",
      "Categories/Values: ['w' 'n' 'g' 'k' 'y' 'f' 'p' 'o' 'b' 'u' 'e' 'r' 'd' 't' 'invalid' 'z' '5'\n",
      " 'h' 'x' 's' '4' 'c' 'm' 'unknown' 'l' 'a' 'i']\n",
      "--------------------------------------------------------------------------------\n",
      "Column: stem-height\n",
      "Number of unique values: 2749\n",
      "Categories/Values: [ 4.51  4.79  6.85 ... 26.09 47.33 26.53]\n",
      "--------------------------------------------------------------------------------\n",
      "Column: stem-width\n",
      "Number of unique values: 5836\n",
      "Categories/Values: [15.39  6.48  9.93 ... 66.91 79.92 53.44]\n",
      "--------------------------------------------------------------------------------\n",
      "Column: stem-root\n",
      "Number of unique values: 25\n",
      "Categories/Values: ['unknown' 'b' 'c' 'r' 's' 'f' 'invalid' 'y' 'o' 'k' 'd' 'n' 'w' 'u' 'p'\n",
      " 'x' 'i' 'a' 't' 'm' 'l' 'h' 'g' 'e' 'z']\n",
      "--------------------------------------------------------------------------------\n",
      "Column: stem-surface\n",
      "Number of unique values: 25\n",
      "Categories/Values: ['unknown' 'y' 's' 't' 'g' 'h' 'k' 'i' 'f' 'l' 'd' 'x' 'invalid' 'w' 'a'\n",
      " 'o' 'c' 'n' 'm' 'e' 'p' 'z' 'b' 'r' 'u']\n",
      "--------------------------------------------------------------------------------\n",
      "Column: stem-color\n",
      "Number of unique values: 25\n",
      "Categories/Values: ['w' 'o' 'n' 'y' 'e' 'u' 'p' 'f' 'g' 'r' 'k' 'l' 'b' 'invalid' 't' 'z' 'a'\n",
      " 'h' 'd' 'unknown' 's' 'i' 'c' 'x' 'm']\n",
      "--------------------------------------------------------------------------------\n",
      "Column: veil-type\n",
      "Number of unique values: 21\n",
      "Categories/Values: ['unknown' 'u' 'd' 'a' 'h' 'invalid' 'g' 'c' 'e' 'y' 'i' 'f' 't' 'w' 'p'\n",
      " 'b' 's' 'k' 'r' 'l' 'n']\n",
      "--------------------------------------------------------------------------------\n",
      "Column: veil-color\n",
      "Number of unique values: 23\n",
      "Categories/Values: ['unknown' 'n' 'w' 'k' 'y' 'e' 'u' 'p' 'd' 'g' 'r' 'h' 's' 'invalid' 't'\n",
      " 'c' 'o' 'i' 'f' 'a' 'b' 'l' 'z']\n",
      "--------------------------------------------------------------------------------\n",
      "Column: has-ring\n",
      "Number of unique values: 23\n",
      "Categories/Values: ['f' 't' 'h' 'r' 'y' 'c' 'e' 'g' 'l' 's' 'unknown' 'p' 'x' 'k' 'z'\n",
      " 'invalid' 'd' 'o' 'n' 'm' 'i' 'w' 'a']\n",
      "--------------------------------------------------------------------------------\n",
      "Column: ring-type\n",
      "Number of unique values: 28\n",
      "Categories/Values: ['f' 'z' 'e' 'unknown' 'p' 'l' 'g' 'r' 'm' 'y' 'h' 'o' 't' 'invalid' 'a'\n",
      " 'd' 's' 'x' '4' 'b' 'u' 'n' 'w' 'i' 'k' 'c' '1' '2']\n",
      "--------------------------------------------------------------------------------\n",
      "Column: spore-print-color\n",
      "Number of unique values: 24\n",
      "Categories/Values: ['unknown' 'k' 'w' 'p' 'n' 'r' 'u' 'g' 't' 'f' 'd' 'l' 'y' 'a' 's'\n",
      " 'invalid' 'e' 'o' 'c' 'b' 'h' 'x' 'i' 'm']\n",
      "--------------------------------------------------------------------------------\n",
      "Column: habitat\n",
      "Number of unique values: 26\n",
      "Categories/Values: ['d' 'l' 'g' 'h' 'p' 'm' 'u' 'w' 'y' 'unknown' 'n' 'a' 's' 'k' 'invalid'\n",
      " 'z' 'b' 't' 'c' 'e' 'r' 'f' 'o' 'x' '4' 'i']\n",
      "--------------------------------------------------------------------------------\n",
      "Column: season\n",
      "Number of unique values: 4\n",
      "Categories/Values: ['a', 'w', 'u', 's']\n",
      "Categories (6, object): ['a', 's', 'u', 'w', 'unknown', 'invalid']\n",
      "--------------------------------------------------------------------------------\n"
     ]
    }
   ],
   "source": [
    "# Look the categories of each column\n",
    "for column in clean_train_data.columns:\n",
    "        unique_values = clean_train_data[column].unique()\n",
    "        print(f\"Column: {column}\")\n",
    "        print(f\"Number of unique values: {len(unique_values)}\")\n",
    "        print(f\"Categories/Values: {unique_values}\")\n",
    "        print(\"-\" * 80)"
   ]
  },
  {
   "cell_type": "markdown",
   "metadata": {},
   "source": [
    "# Initial analysis"
   ]
  },
  {
   "cell_type": "markdown",
   "metadata": {},
   "source": [
    "### Correlation Analysis"
   ]
  },
  {
   "cell_type": "code",
   "execution_count": 5,
   "metadata": {
    "tags": []
   },
   "outputs": [
    {
     "data": {
      "text/plain": [
       "0"
      ]
     },
     "execution_count": 5,
     "metadata": {},
     "output_type": "execute_result"
    }
   ],
   "source": [
    "# Separate the target column\n",
    "target_column = clean_train_data['class']\n",
    "features_data = clean_train_data.drop(columns=['class'])\n",
    "\n",
    "# Clear memory\n",
    "del clean_train_data\n",
    "gc.collect()"
   ]
  },
  {
   "cell_type": "code",
   "execution_count": 6,
   "metadata": {
    "tags": []
   },
   "outputs": [
    {
     "data": {
      "text/plain": [
       "0"
      ]
     },
     "execution_count": 6,
     "metadata": {},
     "output_type": "execute_result"
    }
   ],
   "source": [
    "# Apply OneHotEncoder to categorical columns\n",
    "encoder = OneHotEncoder(drop='first', sparse_output=True)\n",
    "encoded_train = encoder.fit_transform(\n",
    "    features_data.select_dtypes(include=['category', 'object']))\n",
    "\n",
    "# Add again the numerical columns\n",
    "numerical_train = features_data.select_dtypes(include=[np.number])\n",
    "encoded_matrix= csr_matrix(np.hstack([encoded_train.toarray(), \n",
    "                                      numerical_train.values]))\n",
    "\n",
    "# Correlation matrix\n",
    "corr_matrix_sparse = np.corrcoef(encoded_matrix.toarray(), rowvar=False)\n",
    "\n",
    "# Clear memory\n",
    "del features_data, encoded_train\n",
    "gc.collect()"
   ]
  },
  {
   "cell_type": "code",
   "execution_count": 7,
   "metadata": {
    "tags": []
   },
   "outputs": [
    {
     "name": "stdout",
     "output_type": "stream",
     "text": [
      "                      level_0                 level_1  correlation\n",
      "27116  does-bruise-or-bleed_f  does-bruise-or-bleed_t    -0.999870\n",
      "34246       gill-attachment_f          gill-spacing_f     0.994906\n",
      "34268       gill-attachment_f            gill-color_f     0.995787\n",
      "41301          gill-spacing_f            gill-color_f     0.993694\n",
      "52136             stem-root_f          stem-surface_f     0.924257\n",
      "52160             stem-root_f            stem-color_f     0.960879\n",
      "56948          stem-surface_f            stem-color_f     0.882482\n",
      "66435             veil-type_u       veil-type_unknown    -0.999739\n",
      "69020      veil-color_unknown            veil-color_w    -0.846676\n",
      "69753              has-ring_f              has-ring_t    -0.999874\n",
      "69766              has-ring_f             ring-type_f     0.903410\n",
      "70962              has-ring_t             ring-type_f    -0.903310\n"
     ]
    },
    {
     "data": {
      "text/plain": [
       "0"
      ]
     },
     "execution_count": 7,
     "metadata": {},
     "output_type": "execute_result"
    }
   ],
   "source": [
    "# Analyze the correlation\n",
    "# Get all the features names\n",
    "categorical_feature_names = encoder.get_feature_names_out()\n",
    "numerical_feature_names = numerical_train.columns\n",
    "all_feature_names = np.hstack(\n",
    "    [categorical_feature_names, numerical_feature_names])\n",
    "\n",
    "# Convert correlation array to DataFrame\n",
    "corr_df = pd.DataFrame(\n",
    "    corr_matrix_sparse, index=all_feature_names, columns=all_feature_names)\n",
    "\n",
    "# Set a threshold for high correlation\n",
    "threshold = 0.8\n",
    "\n",
    "# Find pairs of columns with correlation above the threshold\n",
    "high_corr = (corr_df.where(np.triu(np.ones(corr_df.shape), k=1).astype(bool))\n",
    "             .stack()\n",
    "             .reset_index()\n",
    "             .rename(columns={0: 'correlation'})\n",
    "             .query('abs(correlation) > @threshold'))\n",
    "\n",
    "print(high_corr)\n",
    "\n",
    "# Clear memory\n",
    "del categorical_feature_names, numerical_feature_names, corr_df\n",
    "del corr_matrix_sparse, numerical_train\n",
    "gc.collect()"
   ]
  },
  {
   "cell_type": "code",
   "execution_count": 8,
   "metadata": {
    "tags": []
   },
   "outputs": [
    {
     "name": "stdout",
     "output_type": "stream",
     "text": [
      "<class 'pandas.core.frame.DataFrame'>\n",
      "RangeIndex: 3116945 entries, 0 to 3116944\n",
      "Columns: 378 entries, cap-shape_a to stem-width\n",
      "dtypes: float64(378)\n",
      "memory usage: 8.8 GB\n"
     ]
    },
    {
     "data": {
      "text/plain": [
       "0"
      ]
     },
     "execution_count": 8,
     "metadata": {},
     "output_type": "execute_result"
    }
   ],
   "source": [
    "# Consider the correlated columns\n",
    "columns_to_remove = set()\n",
    "for col1, col2 in high_corr[['level_0', 'level_1']].values:\n",
    "    # Avoid removing both columns if they are in multiple high-correlation pairs\n",
    "    columns_to_remove.add(col1)\n",
    "indices_to_remove = [i for i, col in enumerate(all_feature_names) if col in columns_to_remove]\n",
    "cleaned_feature_names = np.delete(all_feature_names, indices_to_remove)\n",
    "\n",
    "# Remove redundant columns from encoded data\n",
    "encoded_dense_matrix = encoded_matrix.toarray()\n",
    "encoded_dense_matrix_cleaned = np.delete(\n",
    "    encoded_dense_matrix, indices_to_remove, axis=1)\n",
    "\n",
    "# Create a pandas DataFrame with cleaned data and feature names\n",
    "cleaned_df = pd.DataFrame(\n",
    "    encoded_dense_matrix_cleaned, columns=cleaned_feature_names)\n",
    "cleaned_df.info()\n",
    "\n",
    "# Clear memory\n",
    "del encoded_dense_matrix, encoded_dense_matrix_cleaned\n",
    "gc.collect()"
   ]
  },
  {
   "cell_type": "markdown",
   "metadata": {},
   "source": [
    "### Principal Component Analysis"
   ]
  },
  {
   "cell_type": "code",
   "execution_count": 9,
   "metadata": {
    "tags": []
   },
   "outputs": [
    {
     "name": "stdout",
     "output_type": "stream",
     "text": [
      "<class 'pandas.core.frame.DataFrame'>\n",
      "RangeIndex: 3116945 entries, 0 to 3116944\n",
      "Columns: 325 entries, 0 to 324\n",
      "dtypes: float64(325)\n",
      "memory usage: 7.5 GB\n"
     ]
    },
    {
     "data": {
      "text/plain": [
       "0"
      ]
     },
     "execution_count": 9,
     "metadata": {},
     "output_type": "execute_result"
    }
   ],
   "source": [
    "# Standardize the data (excluding the target column)\n",
    "scaler = StandardScaler()\n",
    "standardized_data = scaler.fit_transform(cleaned_df)\n",
    "\n",
    "# Apply PCA\n",
    "pca = PCA(n_components=0.95)  # Retain 95% of the variance\n",
    "pca_transformed_data = pca.fit_transform(standardized_data)\n",
    "\n",
    "# Analyze the Explained Variance\n",
    "# explained_variance = pca.explained_variance_ratio_\n",
    "\n",
    "# Convert back to DataFrame for further analysis\n",
    "cleaned_df = pd.DataFrame(pca_transformed_data)\n",
    "cleaned_df.info()\n",
    "\n",
    "# Clear memory\n",
    "del standardized_data, pca_transformed_data\n",
    "gc.collect()"
   ]
  },
  {
   "cell_type": "markdown",
   "metadata": {},
   "source": [
    "# Model preparation"
   ]
  },
  {
   "cell_type": "code",
   "execution_count": 10,
   "metadata": {
    "tags": []
   },
   "outputs": [
    {
     "data": {
      "image/png": "[encoded data removed]",
      "text/plain": [
       "<Figure size 640x480 with 1 Axes>"
      ]
     },
     "metadata": {},
     "output_type": "display_data"
    },
    {
     "data": {
      "text/plain": [
       "3400"
      ]
     },
     "execution_count": 10,
     "metadata": {},
     "output_type": "execute_result"
    }
   ],
   "source": [
    "# See if theres class disbalance\n",
    "# Convert the Series to a DataFrame\n",
    "target_df = target_column.to_frame(name='class')\n",
    "\n",
    "# Plot the distribution of the target column\n",
    "colors = ['#2ca02c', '#d62728']\n",
    "# Plot the distribution of the target column with custom colors\n",
    "sns.countplot(x='class', data=target_df, hue='class', palette=colors)\n",
    "\n",
    "# Add labels and title\n",
    "plt.xlabel('Class')\n",
    "plt.ylabel('Count')\n",
    "plt.title('Distribution of Target Classes')\n",
    "\n",
    "# Display the plot\n",
    "plt.show()\n",
    "\n",
    "# Clear memory\n",
    "del target_column\n",
    "gc.collect()"
   ]
  },
  {
   "cell_type": "markdown",
   "metadata": {},
   "source": [
    "### Handle Outliers"
   ]
  },
  {
   "cell_type": "code",
   "execution_count": 11,
   "metadata": {
    "tags": []
   },
   "outputs": [
    {
     "name": "stdout",
     "output_type": "stream",
     "text": [
      "<class 'pandas.core.frame.DataFrame'>\n",
      "Index: 2457682 entries, 0 to 3116944\n",
      "Columns: 325 entries, 0 to 324\n",
      "dtypes: float64(325)\n",
      "memory usage: 6.0 GB\n"
     ]
    },
    {
     "data": {
      "text/plain": [
       "0"
      ]
     },
     "execution_count": 11,
     "metadata": {},
     "output_type": "execute_result"
    }
   ],
   "source": [
    "# Heavy computation, may skip\n",
    "\n",
    "# Calculate the Z-scores of the features\n",
    "z_scores = cleaned_df.apply(zscore)\n",
    "\n",
    "# Define a threshold\n",
    "threshold = 3\n",
    "\n",
    "# Find rows where any feature's Z-score exceeds the threshold\n",
    "outliers = (np.abs(z_scores) > threshold).any(axis=1)\n",
    "\n",
    "# Filter out the outliers from the dataset\n",
    "cleaned_df_no_outliers = cleaned_df[~outliers]\n",
    "target_column_no_outliers = target_df[~outliers]\n",
    "cleaned_df_no_outliers.info()\n",
    "\n",
    "# Clear memory\n",
    "del z_scores, outliers\n",
    "gc.collect()"
   ]
  },
  {
   "cell_type": "markdown",
   "metadata": {},
   "source": [
    "# Logistic Regression training"
   ]
  },
  {
   "cell_type": "code",
   "execution_count": 12,
   "metadata": {
    "tags": []
   },
   "outputs": [
    {
     "data": {
      "text/plain": [
       "0"
      ]
     },
     "execution_count": 12,
     "metadata": {},
     "output_type": "execute_result"
    }
   ],
   "source": [
    "# Encode the target column\n",
    "label_encoder = LabelEncoder()\n",
    "target_encoded = label_encoder.fit_transform(\n",
    "    target_column_no_outliers.values.ravel())\n",
    "\n",
    "# Split the data into training and testing sets\n",
    "X_train, X_test, y_train, y_test = train_test_split(\n",
    "    cleaned_df_no_outliers, target_encoded, \n",
    "    test_size=0.2, random_state=42, stratify=target_encoded\n",
    ")\n",
    "\n",
    "# Ensure the features are still scale\n",
    "scaler = StandardScaler()\n",
    "X_train_scaled = scaler.fit_transform(X_train)\n",
    "X_test_scaled = scaler.transform(X_test)\n",
    "\n",
    "# Clear memory\n",
    "del cleaned_df_no_outliers, target_column_no_outliers\n",
    "del X_train, X_test, cleaned_df, target_df, target_encoded\n",
    "gc.collect()"
   ]
  },
  {
   "cell_type": "markdown",
   "metadata": {},
   "source": [
    "### Optimize Numeric Data Types"
   ]
  },
  {
   "cell_type": "code",
   "execution_count": 13,
   "metadata": {
    "tags": []
   },
   "outputs": [],
   "source": [
    "# Function to optimize the data types of a DataFrame\n",
    "def optimize_dataframe(df):\n",
    "    \"\"\"Optimize the data types of a pandas DataFrame to reduce memory usage.\n",
    "\n",
    "    This function downcasts the data types of integer and float columns in \n",
    "    the DataFrame to more memory-efficient types. Specifically:\n",
    "    - Integer columns are downcasted to the smallest unsigned integer type.\n",
    "    - Float columns are downcasted to the smallest float type.\n",
    "\n",
    "    Parameters:\n",
    "    ----------\n",
    "    df : pandas.DataFrame\n",
    "\n",
    "    Returns:\n",
    "    -------\n",
    "    pandas.DataFrame\n",
    "        The DataFrame with optimized data types, which consumes less memory.\n",
    "    \"\"\"\n",
    "    # Optimize integers\n",
    "    for col in df.select_dtypes(include=['int']).columns:\n",
    "        df[col] = pd.to_numeric(df[col], downcast='unsigned')\n",
    "    \n",
    "    # Optimize floats\n",
    "    for col in df.select_dtypes(include=['float']).columns:\n",
    "        df[col] = pd.to_numeric(df[col], downcast='float')\n",
    "    \n",
    "    return df\n"
   ]
  },
  {
   "cell_type": "code",
   "execution_count": 14,
   "metadata": {
    "tags": []
   },
   "outputs": [],
   "source": [
    "X_train_optimized = optimize_dataframe(pd.DataFrame(X_train_scaled))\n",
    "X_test_optimized = optimize_dataframe(pd.DataFrame(X_test_scaled))\n",
    "\n",
    "# Ensure categorical columns are in dtype=category\n",
    "for col in X_train_optimized.select_dtypes(include=['object']).columns:\n",
    "    X_train_optimized[col] = X_train_optimized[col].astype('category')\n"
   ]
  },
  {
   "cell_type": "code",
   "execution_count": 15,
   "metadata": {
    "tags": []
   },
   "outputs": [
    {
     "name": "stdout",
     "output_type": "stream",
     "text": [
      "Original row count: 1966145\n",
      "Optimized row count: 1966145\n"
     ]
    },
    {
     "data": {
      "text/plain": [
       "0"
      ]
     },
     "execution_count": 15,
     "metadata": {},
     "output_type": "execute_result"
    }
   ],
   "source": [
    "# Assure data integrity\n",
    "print(\"Original row count:\", len(X_train_scaled))\n",
    "print(\"Optimized row count:\", len(X_train_optimized))\n",
    "\n",
    "# Clear memory\n",
    "del X_train_scaled, X_test_scaled\n",
    "gc.collect()"
   ]
  },
  {
   "cell_type": "markdown",
   "metadata": {},
   "source": [
    "### Model training"
   ]
  },
  {
   "cell_type": "code",
   "execution_count": 18,
   "metadata": {
    "tags": []
   },
   "outputs": [
    {
     "data": {
      "text/html": [
       "<style>#sk-container-id-2 {\n",
       "  /* Definition of color scheme common for light and dark mode */\n",
       "  --sklearn-color-text: black;\n",
       "  --sklearn-color-line: gray;\n",
       "  /* Definition of color scheme for unfitted estimators */\n",
       "  --sklearn-color-unfitted-level-0: #fff5e6;\n",
       "  --sklearn-color-unfitted-level-1: #f6e4d2;\n",
       "  --sklearn-color-unfitted-level-2: #ffe0b3;\n",
       "  --sklearn-color-unfitted-level-3: chocolate;\n",
       "  /* Definition of color scheme for fitted estimators */\n",
       "  --sklearn-color-fitted-level-0: #f0f8ff;\n",
       "  --sklearn-color-fitted-level-1: #d4ebff;\n",
       "  --sklearn-color-fitted-level-2: #b3dbfd;\n",
       "  --sklearn-color-fitted-level-3: cornflowerblue;\n",
       "\n",
       "  /* Specific color for light theme */\n",
       "  --sklearn-color-text-on-default-background: var(--sg-text-color, var(--theme-code-foreground, var(--jp-content-font-color1, black)));\n",
       "  --sklearn-color-background: var(--sg-background-color, var(--theme-background, var(--jp-layout-color0, white)));\n",
       "  --sklearn-color-border-box: var(--sg-text-color, var(--theme-code-foreground, var(--jp-content-font-color1, black)));\n",
       "  --sklearn-color-icon: #696969;\n",
       "\n",
       "  @media (prefers-color-scheme: dark) {\n",
       "    /* Redefinition of color scheme for dark theme */\n",
       "    --sklearn-color-text-on-default-background: var(--sg-text-color, var(--theme-code-foreground, var(--jp-content-font-color1, white)));\n",
       "    --sklearn-color-background: var(--sg-background-color, var(--theme-background, var(--jp-layout-color0, #111)));\n",
       "    --sklearn-color-border-box: var(--sg-text-color, var(--theme-code-foreground, var(--jp-content-font-color1, white)));\n",
       "    --sklearn-color-icon: #878787;\n",
       "  }\n",
       "}\n",
       "\n",
       "#sk-container-id-2 {\n",
       "  color: var(--sklearn-color-text);\n",
       "}\n",
       "\n",
       "#sk-container-id-2 pre {\n",
       "  padding: 0;\n",
       "}\n",
       "\n",
       "#sk-container-id-2 input.sk-hidden--visually {\n",
       "  border: 0;\n",
       "  clip: rect(1px 1px 1px 1px);\n",
       "  clip: rect(1px, 1px, 1px, 1px);\n",
       "  height: 1px;\n",
       "  margin: -1px;\n",
       "  overflow: hidden;\n",
       "  padding: 0;\n",
       "  position: absolute;\n",
       "  width: 1px;\n",
       "}\n",
       "\n",
       "#sk-container-id-2 div.sk-dashed-wrapped {\n",
       "  border: 1px dashed var(--sklearn-color-line);\n",
       "  margin: 0 0.4em 0.5em 0.4em;\n",
       "  box-sizing: border-box;\n",
       "  padding-bottom: 0.4em;\n",
       "  background-color: var(--sklearn-color-background);\n",
       "}\n",
       "\n",
       "#sk-container-id-2 div.sk-container {\n",
       "  /* jupyter's `normalize.less` sets `[hidden] { display: none; }`\n",
       "     but bootstrap.min.css set `[hidden] { display: none !important; }`\n",
       "     so we also need the `!important` here to be able to override the\n",
       "     default hidden behavior on the sphinx rendered scikit-learn.org.\n",
       "     See: https://github.com/scikit-learn/scikit-learn/issues/21755 */\n",
       "  display: inline-block !important;\n",
       "  position: relative;\n",
       "}\n",
       "\n",
       "#sk-container-id-2 div.sk-text-repr-fallback {\n",
       "  display: none;\n",
       "}\n",
       "\n",
       "div.sk-parallel-item,\n",
       "div.sk-serial,\n",
       "div.sk-item {\n",
       "  /* draw centered vertical line to link estimators */\n",
       "  background-image: linear-gradient(var(--sklearn-color-text-on-default-background), var(--sklearn-color-text-on-default-background));\n",
       "  background-size: 2px 100%;\n",
       "  background-repeat: no-repeat;\n",
       "  background-position: center center;\n",
       "}\n",
       "\n",
       "/* Parallel-specific style estimator block */\n",
       "\n",
       "#sk-container-id-2 div.sk-parallel-item::after {\n",
       "  content: \"\";\n",
       "  width: 100%;\n",
       "  border-bottom: 2px solid var(--sklearn-color-text-on-default-background);\n",
       "  flex-grow: 1;\n",
       "}\n",
       "\n",
       "#sk-container-id-2 div.sk-parallel {\n",
       "  display: flex;\n",
       "  align-items: stretch;\n",
       "  justify-content: center;\n",
       "  background-color: var(--sklearn-color-background);\n",
       "  position: relative;\n",
       "}\n",
       "\n",
       "#sk-container-id-2 div.sk-parallel-item {\n",
       "  display: flex;\n",
       "  flex-direction: column;\n",
       "}\n",
       "\n",
       "#sk-container-id-2 div.sk-parallel-item:first-child::after {\n",
       "  align-self: flex-end;\n",
       "  width: 50%;\n",
       "}\n",
       "\n",
       "#sk-container-id-2 div.sk-parallel-item:last-child::after {\n",
       "  align-self: flex-start;\n",
       "  width: 50%;\n",
       "}\n",
       "\n",
       "#sk-container-id-2 div.sk-parallel-item:only-child::after {\n",
       "  width: 0;\n",
       "}\n",
       "\n",
       "/* Serial-specific style estimator block */\n",
       "\n",
       "#sk-container-id-2 div.sk-serial {\n",
       "  display: flex;\n",
       "  flex-direction: column;\n",
       "  align-items: center;\n",
       "  background-color: var(--sklearn-color-background);\n",
       "  padding-right: 1em;\n",
       "  padding-left: 1em;\n",
       "}\n",
       "\n",
       "\n",
       "/* Toggleable style: style used for estimator/Pipeline/ColumnTransformer box that is\n",
       "clickable and can be expanded/collapsed.\n",
       "- Pipeline and ColumnTransformer use this feature and define the default style\n",
       "- Estimators will overwrite some part of the style using the `sk-estimator` class\n",
       "*/\n",
       "\n",
       "/* Pipeline and ColumnTransformer style (default) */\n",
       "\n",
       "#sk-container-id-2 div.sk-toggleable {\n",
       "  /* Default theme specific background. It is overwritten whether we have a\n",
       "  specific estimator or a Pipeline/ColumnTransformer */\n",
       "  background-color: var(--sklearn-color-background);\n",
       "}\n",
       "\n",
       "/* Toggleable label */\n",
       "#sk-container-id-2 label.sk-toggleable__label {\n",
       "  cursor: pointer;\n",
       "  display: block;\n",
       "  width: 100%;\n",
       "  margin-bottom: 0;\n",
       "  padding: 0.5em;\n",
       "  box-sizing: border-box;\n",
       "  text-align: center;\n",
       "}\n",
       "\n",
       "#sk-container-id-2 label.sk-toggleable__label-arrow:before {\n",
       "  /* Arrow on the left of the label */\n",
       "  content: \"▸\";\n",
       "  float: left;\n",
       "  margin-right: 0.25em;\n",
       "  color: var(--sklearn-color-icon);\n",
       "}\n",
       "\n",
       "#sk-container-id-2 label.sk-toggleable__label-arrow:hover:before {\n",
       "  color: var(--sklearn-color-text);\n",
       "}\n",
       "\n",
       "/* Toggleable content - dropdown */\n",
       "\n",
       "#sk-container-id-2 div.sk-toggleable__content {\n",
       "  max-height: 0;\n",
       "  max-width: 0;\n",
       "  overflow: hidden;\n",
       "  text-align: left;\n",
       "  /* unfitted */\n",
       "  background-color: var(--sklearn-color-unfitted-level-0);\n",
       "}\n",
       "\n",
       "#sk-container-id-2 div.sk-toggleable__content.fitted {\n",
       "  /* fitted */\n",
       "  background-color: var(--sklearn-color-fitted-level-0);\n",
       "}\n",
       "\n",
       "#sk-container-id-2 div.sk-toggleable__content pre {\n",
       "  margin: 0.2em;\n",
       "  border-radius: 0.25em;\n",
       "  color: var(--sklearn-color-text);\n",
       "  /* unfitted */\n",
       "  background-color: var(--sklearn-color-unfitted-level-0);\n",
       "}\n",
       "\n",
       "#sk-container-id-2 div.sk-toggleable__content.fitted pre {\n",
       "  /* unfitted */\n",
       "  background-color: var(--sklearn-color-fitted-level-0);\n",
       "}\n",
       "\n",
       "#sk-container-id-2 input.sk-toggleable__control:checked~div.sk-toggleable__content {\n",
       "  /* Expand drop-down */\n",
       "  max-height: 200px;\n",
       "  max-width: 100%;\n",
       "  overflow: auto;\n",
       "}\n",
       "\n",
       "#sk-container-id-2 input.sk-toggleable__control:checked~label.sk-toggleable__label-arrow:before {\n",
       "  content: \"▾\";\n",
       "}\n",
       "\n",
       "/* Pipeline/ColumnTransformer-specific style */\n",
       "\n",
       "#sk-container-id-2 div.sk-label input.sk-toggleable__control:checked~label.sk-toggleable__label {\n",
       "  color: var(--sklearn-color-text);\n",
       "  background-color: var(--sklearn-color-unfitted-level-2);\n",
       "}\n",
       "\n",
       "#sk-container-id-2 div.sk-label.fitted input.sk-toggleable__control:checked~label.sk-toggleable__label {\n",
       "  background-color: var(--sklearn-color-fitted-level-2);\n",
       "}\n",
       "\n",
       "/* Estimator-specific style */\n",
       "\n",
       "/* Colorize estimator box */\n",
       "#sk-container-id-2 div.sk-estimator input.sk-toggleable__control:checked~label.sk-toggleable__label {\n",
       "  /* unfitted */\n",
       "  background-color: var(--sklearn-color-unfitted-level-2);\n",
       "}\n",
       "\n",
       "#sk-container-id-2 div.sk-estimator.fitted input.sk-toggleable__control:checked~label.sk-toggleable__label {\n",
       "  /* fitted */\n",
       "  background-color: var(--sklearn-color-fitted-level-2);\n",
       "}\n",
       "\n",
       "#sk-container-id-2 div.sk-label label.sk-toggleable__label,\n",
       "#sk-container-id-2 div.sk-label label {\n",
       "  /* The background is the default theme color */\n",
       "  color: var(--sklearn-color-text-on-default-background);\n",
       "}\n",
       "\n",
       "/* On hover, darken the color of the background */\n",
       "#sk-container-id-2 div.sk-label:hover label.sk-toggleable__label {\n",
       "  color: var(--sklearn-color-text);\n",
       "  background-color: var(--sklearn-color-unfitted-level-2);\n",
       "}\n",
       "\n",
       "/* Label box, darken color on hover, fitted */\n",
       "#sk-container-id-2 div.sk-label.fitted:hover label.sk-toggleable__label.fitted {\n",
       "  color: var(--sklearn-color-text);\n",
       "  background-color: var(--sklearn-color-fitted-level-2);\n",
       "}\n",
       "\n",
       "/* Estimator label */\n",
       "\n",
       "#sk-container-id-2 div.sk-label label {\n",
       "  font-family: monospace;\n",
       "  font-weight: bold;\n",
       "  display: inline-block;\n",
       "  line-height: 1.2em;\n",
       "}\n",
       "\n",
       "#sk-container-id-2 div.sk-label-container {\n",
       "  text-align: center;\n",
       "}\n",
       "\n",
       "/* Estimator-specific */\n",
       "#sk-container-id-2 div.sk-estimator {\n",
       "  font-family: monospace;\n",
       "  border: 1px dotted var(--sklearn-color-border-box);\n",
       "  border-radius: 0.25em;\n",
       "  box-sizing: border-box;\n",
       "  margin-bottom: 0.5em;\n",
       "  /* unfitted */\n",
       "  background-color: var(--sklearn-color-unfitted-level-0);\n",
       "}\n",
       "\n",
       "#sk-container-id-2 div.sk-estimator.fitted {\n",
       "  /* fitted */\n",
       "  background-color: var(--sklearn-color-fitted-level-0);\n",
       "}\n",
       "\n",
       "/* on hover */\n",
       "#sk-container-id-2 div.sk-estimator:hover {\n",
       "  /* unfitted */\n",
       "  background-color: var(--sklearn-color-unfitted-level-2);\n",
       "}\n",
       "\n",
       "#sk-container-id-2 div.sk-estimator.fitted:hover {\n",
       "  /* fitted */\n",
       "  background-color: var(--sklearn-color-fitted-level-2);\n",
       "}\n",
       "\n",
       "/* Specification for estimator info (e.g. \"i\" and \"?\") */\n",
       "\n",
       "/* Common style for \"i\" and \"?\" */\n",
       "\n",
       ".sk-estimator-doc-link,\n",
       "a:link.sk-estimator-doc-link,\n",
       "a:visited.sk-estimator-doc-link {\n",
       "  float: right;\n",
       "  font-size: smaller;\n",
       "  line-height: 1em;\n",
       "  font-family: monospace;\n",
       "  background-color: var(--sklearn-color-background);\n",
       "  border-radius: 1em;\n",
       "  height: 1em;\n",
       "  width: 1em;\n",
       "  text-decoration: none !important;\n",
       "  margin-left: 1ex;\n",
       "  /* unfitted */\n",
       "  border: var(--sklearn-color-unfitted-level-1) 1pt solid;\n",
       "  color: var(--sklearn-color-unfitted-level-1);\n",
       "}\n",
       "\n",
       ".sk-estimator-doc-link.fitted,\n",
       "a:link.sk-estimator-doc-link.fitted,\n",
       "a:visited.sk-estimator-doc-link.fitted {\n",
       "  /* fitted */\n",
       "  border: var(--sklearn-color-fitted-level-1) 1pt solid;\n",
       "  color: var(--sklearn-color-fitted-level-1);\n",
       "}\n",
       "\n",
       "/* On hover */\n",
       "div.sk-estimator:hover .sk-estimator-doc-link:hover,\n",
       ".sk-estimator-doc-link:hover,\n",
       "div.sk-label-container:hover .sk-estimator-doc-link:hover,\n",
       ".sk-estimator-doc-link:hover {\n",
       "  /* unfitted */\n",
       "  background-color: var(--sklearn-color-unfitted-level-3);\n",
       "  color: var(--sklearn-color-background);\n",
       "  text-decoration: none;\n",
       "}\n",
       "\n",
       "div.sk-estimator.fitted:hover .sk-estimator-doc-link.fitted:hover,\n",
       ".sk-estimator-doc-link.fitted:hover,\n",
       "div.sk-label-container:hover .sk-estimator-doc-link.fitted:hover,\n",
       ".sk-estimator-doc-link.fitted:hover {\n",
       "  /* fitted */\n",
       "  background-color: var(--sklearn-color-fitted-level-3);\n",
       "  color: var(--sklearn-color-background);\n",
       "  text-decoration: none;\n",
       "}\n",
       "\n",
       "/* Span, style for the box shown on hovering the info icon */\n",
       ".sk-estimator-doc-link span {\n",
       "  display: none;\n",
       "  z-index: 9999;\n",
       "  position: relative;\n",
       "  font-weight: normal;\n",
       "  right: .2ex;\n",
       "  padding: .5ex;\n",
       "  margin: .5ex;\n",
       "  width: min-content;\n",
       "  min-width: 20ex;\n",
       "  max-width: 50ex;\n",
       "  color: var(--sklearn-color-text);\n",
       "  box-shadow: 2pt 2pt 4pt #999;\n",
       "  /* unfitted */\n",
       "  background: var(--sklearn-color-unfitted-level-0);\n",
       "  border: .5pt solid var(--sklearn-color-unfitted-level-3);\n",
       "}\n",
       "\n",
       ".sk-estimator-doc-link.fitted span {\n",
       "  /* fitted */\n",
       "  background: var(--sklearn-color-fitted-level-0);\n",
       "  border: var(--sklearn-color-fitted-level-3);\n",
       "}\n",
       "\n",
       ".sk-estimator-doc-link:hover span {\n",
       "  display: block;\n",
       "}\n",
       "\n",
       "/* \"?\"-specific style due to the `<a>` HTML tag */\n",
       "\n",
       "#sk-container-id-2 a.estimator_doc_link {\n",
       "  float: right;\n",
       "  font-size: 1rem;\n",
       "  line-height: 1em;\n",
       "  font-family: monospace;\n",
       "  background-color: var(--sklearn-color-background);\n",
       "  border-radius: 1rem;\n",
       "  height: 1rem;\n",
       "  width: 1rem;\n",
       "  text-decoration: none;\n",
       "  /* unfitted */\n",
       "  color: var(--sklearn-color-unfitted-level-1);\n",
       "  border: var(--sklearn-color-unfitted-level-1) 1pt solid;\n",
       "}\n",
       "\n",
       "#sk-container-id-2 a.estimator_doc_link.fitted {\n",
       "  /* fitted */\n",
       "  border: var(--sklearn-color-fitted-level-1) 1pt solid;\n",
       "  color: var(--sklearn-color-fitted-level-1);\n",
       "}\n",
       "\n",
       "/* On hover */\n",
       "#sk-container-id-2 a.estimator_doc_link:hover {\n",
       "  /* unfitted */\n",
       "  background-color: var(--sklearn-color-unfitted-level-3);\n",
       "  color: var(--sklearn-color-background);\n",
       "  text-decoration: none;\n",
       "}\n",
       "\n",
       "#sk-container-id-2 a.estimator_doc_link.fitted:hover {\n",
       "  /* fitted */\n",
       "  background-color: var(--sklearn-color-fitted-level-3);\n",
       "}\n",
       "</style><div id=\"sk-container-id-2\" class=\"sk-top-container\"><div class=\"sk-text-repr-fallback\"><pre>LogisticRegression(max_iter=10000)</pre><b>In a Jupyter environment, please rerun this cell to show the HTML representation or trust the notebook. <br />On GitHub, the HTML representation is unable to render, please try loading this page with nbviewer.org.</b></div><div class=\"sk-container\" hidden><div class=\"sk-item\"><div class=\"sk-estimator fitted sk-toggleable\"><input class=\"sk-toggleable__control sk-hidden--visually\" id=\"sk-estimator-id-2\" type=\"checkbox\" checked><label for=\"sk-estimator-id-2\" class=\"sk-toggleable__label fitted sk-toggleable__label-arrow fitted\">&nbsp;&nbsp;LogisticRegression<a class=\"sk-estimator-doc-link fitted\" rel=\"noreferrer\" target=\"_blank\" href=\"https://scikit-learn.org/1.5/modules/generated/sklearn.linear_model.LogisticRegression.html\">?<span>Documentation for LogisticRegression</span></a><span class=\"sk-estimator-doc-link fitted\">i<span>Fitted</span></span></label><div class=\"sk-toggleable__content fitted\"><pre>LogisticRegression(max_iter=10000)</pre></div> </div></div></div></div>"
      ],
      "text/plain": [
       "LogisticRegression(max_iter=10000)"
      ]
     },
     "execution_count": 18,
     "metadata": {},
     "output_type": "execute_result"
    }
   ],
   "source": [
    "# Inicializar el modelo de regresión logística con parámetros por defecto\n",
    "model = LogisticRegression(max_iter=10000)\n",
    "\n",
    "# Entrenar el modelo\n",
    "model.fit(X_train_optimized, y_train)"
   ]
  },
  {
   "cell_type": "code",
   "execution_count": 17,
   "metadata": {
    "tags": []
   },
   "outputs": [
    {
     "name": "stdout",
     "output_type": "stream",
     "text": [
      "Test Accuracy: 0.84702474076214\n",
      "Classification Report:\n",
      "               precision    recall  f1-score   support\n",
      "\n",
      "           0       0.83      0.86      0.85    241583\n",
      "           1       0.86      0.83      0.85    249954\n",
      "\n",
      "    accuracy                           0.85    491537\n",
      "   macro avg       0.85      0.85      0.85    491537\n",
      "weighted avg       0.85      0.85      0.85    491537\n",
      "\n"
     ]
    }
   ],
   "source": [
    "# Predecir en el conjunto de prueba\n",
    "y_pred = model.predict(X_test_optimized)\n",
    "\n",
    "# Evaluar el modelo\n",
    "accuracy = accuracy_score(y_test, y_pred)\n",
    "print(\"Test Accuracy:\", accuracy)\n",
    "print(\"Classification Report:\\n\", \n",
    "      classification_report(y_test, y_pred))"
   ]
  },
  {
   "cell_type": "markdown",
   "metadata": {},
   "source": [
    "### Save the model"
   ]
  },
  {
   "cell_type": "code",
   "execution_count": null,
   "metadata": {},
   "outputs": [],
   "source": [
    "import joblib\n",
    "\n",
    "# Guarda el modelo entrenado en un archivo\n",
    "joblib.dump(model, 'logistic_regression_model.pkl')\n"
   ]
  },
  {
   "cell_type": "code",
   "execution_count": null,
   "metadata": {},
   "outputs": [],
   "source": [
    "import joblib\n",
    "\n",
    "# Carga el modelo desde el archivo\n",
    "loaded_model = joblib.load('logistic_regression_model.pkl')"
   ]
  }
 ],
 "metadata": {
  "kernelspec": {
   "display_name": ".venv-mushrooms",
   "language": "python",
   "name": "python3"
  },
  "language_info": {
   "codemirror_mode": {
    "name": "ipython",
    "version": 3
   },
   "file_extension": ".py",
   "mimetype": "text/x-python",
   "name": "python",
   "nbconvert_exporter": "python",
   "pygments_lexer": "ipython3",
   "version": "3.11.4"
  }
 },
 "nbformat": 4,
 "nbformat_minor": 4
}
