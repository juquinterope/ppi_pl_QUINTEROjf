{
 "cells": [
  {
   "cell_type": "markdown",
   "metadata": {},
   "source": [
    "### Importaciones e inicio del cluster"
   ]
  },
  {
   "cell_type": "code",
   "execution_count": 1,
   "metadata": {},
   "outputs": [],
   "source": [
    "from pyspark.sql import SparkSession\n",
    "from pyspark.sql.functions import col, year, month, dayofmonth, hour, minute\n",
    "from pyspark.ml.feature import StringIndexer, OneHotEncoder, VectorAssembler\n",
    "from pyspark.ml import Pipeline\n",
    "import pandas as pd"
   ]
  },
  {
   "cell_type": "code",
   "execution_count": 2,
   "metadata": {},
   "outputs": [],
   "source": [
    "# Iniciar un cluster de Spark, de lo contrario crearlo\n",
    "spark = SparkSession.builder \\\n",
    "    .appName(\"Accidentes de Trafico\") \\\n",
    "    .getOrCreate()"
   ]
  },
  {
   "cell_type": "markdown",
   "metadata": {},
   "source": [
    "### Analisis y seleccion de los datos"
   ]
  },
  {
   "cell_type": "code",
   "execution_count": 3,
   "metadata": {},
   "outputs": [
    {
     "name": "stdout",
     "output_type": "stream",
     "text": [
      "+---+-------+--------+-------------------+-------------------+-----------------+------------------+-------+-------+------------+--------------------+--------------------+------------+----------+-----+----------+-------+----------+------------+-------------------+--------------+-------------+-----------+------------+--------------+--------------+---------------+-----------------+-----------------+-------+-----+--------+--------+--------+-------+-------+----------+-------+-----+---------------+--------------+------------+--------------+--------------+-----------------+---------------------+\n",
      "| ID| Source|Severity|         Start_Time|           End_Time|        Start_Lat|         Start_Lng|End_Lat|End_Lng|Distance(mi)|         Description|              Street|        City|    County|State|   Zipcode|Country|  Timezone|Airport_Code|  Weather_Timestamp|Temperature(F)|Wind_Chill(F)|Humidity(%)|Pressure(in)|Visibility(mi)|Wind_Direction|Wind_Speed(mph)|Precipitation(in)|Weather_Condition|Amenity| Bump|Crossing|Give_Way|Junction|No_Exit|Railway|Roundabout|Station| Stop|Traffic_Calming|Traffic_Signal|Turning_Loop|Sunrise_Sunset|Civil_Twilight|Nautical_Twilight|Astronomical_Twilight|\n",
      "+---+-------+--------+-------------------+-------------------+-----------------+------------------+-------+-------+------------+--------------------+--------------------+------------+----------+-----+----------+-------+----------+------------+-------------------+--------------+-------------+-----------+------------+--------------+--------------+---------------+-----------------+-----------------+-------+-----+--------+--------+--------+-------+-------+----------+-------+-----+---------------+--------------+------------+--------------+--------------+-----------------+---------------------+\n",
      "|A-1|Source2|       3|2016-02-08 05:46:00|2016-02-08 11:00:00|        39.865147|        -84.058723|   NULL|   NULL|        0.01|Right lane blocke...|              I-70 E|      Dayton|Montgomery|   OH|     45424|     US|US/Eastern|        KFFO|2016-02-08 05:58:00|          36.9|         NULL|       91.0|       29.68|          10.0|          Calm|           NULL|             0.02|       Light Rain|  false|false|   false|   false|   false|  false|  false|     false|  false|false|          false|         false|       false|         Night|         Night|            Night|                Night|\n",
      "|A-2|Source2|       2|2016-02-08 06:07:59|2016-02-08 06:37:59|39.92805900000001|        -82.831184|   NULL|   NULL|        0.01|Accident on Brice...|            Brice Rd|Reynoldsburg|  Franklin|   OH|43068-3402|     US|US/Eastern|        KCMH|2016-02-08 05:51:00|          37.9|         NULL|      100.0|       29.65|          10.0|          Calm|           NULL|              0.0|       Light Rain|  false|false|   false|   false|   false|  false|  false|     false|  false|false|          false|         false|       false|         Night|         Night|            Night|                  Day|\n",
      "|A-3|Source2|       2|2016-02-08 06:49:27|2016-02-08 07:19:27|        39.063148|        -84.032608|   NULL|   NULL|        0.01|Accident on OH-32...|      State Route 32|Williamsburg|  Clermont|   OH|     45176|     US|US/Eastern|        KI69|2016-02-08 06:56:00|          36.0|         33.3|      100.0|       29.67|          10.0|            SW|            3.5|             NULL|         Overcast|  false|false|   false|   false|   false|  false|  false|     false|  false|false|          false|          true|       false|         Night|         Night|              Day|                  Day|\n",
      "|A-4|Source2|       3|2016-02-08 07:23:34|2016-02-08 07:53:34|        39.747753|-84.20558199999998|   NULL|   NULL|        0.01|Accident on I-75 ...|              I-75 S|      Dayton|Montgomery|   OH|     45417|     US|US/Eastern|        KDAY|2016-02-08 07:38:00|          35.1|         31.0|       96.0|       29.64|           9.0|            SW|            4.6|             NULL|    Mostly Cloudy|  false|false|   false|   false|   false|  false|  false|     false|  false|false|          false|         false|       false|         Night|           Day|              Day|                  Day|\n",
      "|A-5|Source2|       2|2016-02-08 07:39:07|2016-02-08 08:09:07|        39.627781|        -84.188354|   NULL|   NULL|        0.01|Accident on McEwe...|Miamisburg Center...|      Dayton|Montgomery|   OH|     45459|     US|US/Eastern|        KMGY|2016-02-08 07:53:00|          36.0|         33.3|       89.0|       29.65|           6.0|            SW|            3.5|             NULL|    Mostly Cloudy|  false|false|   false|   false|   false|  false|  false|     false|  false|false|          false|          true|       false|           Day|           Day|              Day|                  Day|\n",
      "+---+-------+--------+-------------------+-------------------+-----------------+------------------+-------+-------+------------+--------------------+--------------------+------------+----------+-----+----------+-------+----------+------------+-------------------+--------------+-------------+-----------+------------+--------------+--------------+---------------+-----------------+-----------------+-------+-----+--------+--------+--------+-------+-------+----------+-------+-----+---------------+--------------+------------+--------------+--------------+-----------------+---------------------+\n",
      "only showing top 5 rows\n",
      "\n",
      "root\n",
      " |-- ID: string (nullable = true)\n",
      " |-- Source: string (nullable = true)\n",
      " |-- Severity: integer (nullable = true)\n",
      " |-- Start_Time: timestamp (nullable = true)\n",
      " |-- End_Time: timestamp (nullable = true)\n",
      " |-- Start_Lat: double (nullable = true)\n",
      " |-- Start_Lng: double (nullable = true)\n",
      " |-- End_Lat: double (nullable = true)\n",
      " |-- End_Lng: double (nullable = true)\n",
      " |-- Distance(mi): double (nullable = true)\n",
      " |-- Description: string (nullable = true)\n",
      " |-- Street: string (nullable = true)\n",
      " |-- City: string (nullable = true)\n",
      " |-- County: string (nullable = true)\n",
      " |-- State: string (nullable = true)\n",
      " |-- Zipcode: string (nullable = true)\n",
      " |-- Country: string (nullable = true)\n",
      " |-- Timezone: string (nullable = true)\n",
      " |-- Airport_Code: string (nullable = true)\n",
      " |-- Weather_Timestamp: timestamp (nullable = true)\n",
      " |-- Temperature(F): double (nullable = true)\n",
      " |-- Wind_Chill(F): double (nullable = true)\n",
      " |-- Humidity(%): double (nullable = true)\n",
      " |-- Pressure(in): double (nullable = true)\n",
      " |-- Visibility(mi): double (nullable = true)\n",
      " |-- Wind_Direction: string (nullable = true)\n",
      " |-- Wind_Speed(mph): double (nullable = true)\n",
      " |-- Precipitation(in): double (nullable = true)\n",
      " |-- Weather_Condition: string (nullable = true)\n",
      " |-- Amenity: boolean (nullable = true)\n",
      " |-- Bump: boolean (nullable = true)\n",
      " |-- Crossing: boolean (nullable = true)\n",
      " |-- Give_Way: boolean (nullable = true)\n",
      " |-- Junction: boolean (nullable = true)\n",
      " |-- No_Exit: boolean (nullable = true)\n",
      " |-- Railway: boolean (nullable = true)\n",
      " |-- Roundabout: boolean (nullable = true)\n",
      " |-- Station: boolean (nullable = true)\n",
      " |-- Stop: boolean (nullable = true)\n",
      " |-- Traffic_Calming: boolean (nullable = true)\n",
      " |-- Traffic_Signal: boolean (nullable = true)\n",
      " |-- Turning_Loop: boolean (nullable = true)\n",
      " |-- Sunrise_Sunset: string (nullable = true)\n",
      " |-- Civil_Twilight: string (nullable = true)\n",
      " |-- Nautical_Twilight: string (nullable = true)\n",
      " |-- Astronomical_Twilight: string (nullable = true)\n",
      "\n"
     ]
    }
   ],
   "source": [
    "# Ruta al archivo local\n",
    "ruta = '../../data/US_Accidents_March23.csv'\n",
    "accidentes = spark.read.csv(ruta, header=True, inferSchema=True)\n",
    "accidentes.show(5)\n",
    "accidentes.printSchema()"
   ]
  },
  {
   "cell_type": "code",
   "execution_count": 4,
   "metadata": {},
   "outputs": [
    {
     "name": "stdout",
     "output_type": "stream",
     "text": [
      "+--------+-------------------+------------------+------------------+------------+-----+--------------+-----------+------------+--------------+---------------+-----------------+-----------------+----+-----+---+----+------+\n",
      "|Severity|         Start_Time|         Start_Lng|         Start_Lat|        City|State|Temperature(F)|Humidity(%)|Pressure(in)|Visibility(mi)|Wind_Speed(mph)|Precipitation(in)|Weather_Condition|Year|Month|Day|Hour|Minute|\n",
      "+--------+-------------------+------------------+------------------+------------+-----+--------------+-----------+------------+--------------+---------------+-----------------+-----------------+----+-----+---+----+------+\n",
      "|       3|2016-02-08 07:44:26|-82.92519399999998|40.100590000000004| Westerville|   OH|          37.9|       97.0|       29.63|           7.0|            3.5|             0.03|       Light Rain|2016|    2|  8|   7|    44|\n",
      "|       3|2016-02-08 08:10:04|-82.92519399999998|40.100590000000004| Westerville|   OH|          37.4|      100.0|       29.62|           3.0|            4.6|             0.02|       Light Rain|2016|    2|  8|   8|    10|\n",
      "|       3|2016-02-08 08:21:27|         -82.83091|         39.932709|Reynoldsburg|   OH|          37.4|      100.0|       29.62|           3.0|            4.6|             0.02|       Light Rain|2016|    2|  8|   8|    21|\n",
      "|       2|2016-02-08 08:39:43|        -82.913521|         39.972038|    Columbus|   OH|          37.4|      100.0|       29.62|           3.0|            4.6|             0.02|       Light Rain|2016|    2|  8|   8|    39|\n",
      "|       2|2016-02-08 10:11:15|-82.88233199999998|         40.052509|    Columbus|   OH|          33.8|      100.0|       29.62|           2.0|            4.6|             0.01|       Light Snow|2016|    2|  8|  10|    11|\n",
      "+--------+-------------------+------------------+------------------+------------+-----+--------------+-----------+------------+--------------+---------------+-----------------+-----------------+----+-----+---+----+------+\n",
      "only showing top 5 rows\n",
      "\n"
     ]
    }
   ],
   "source": [
    "# Columnas a tratar\n",
    "columnas = ['Severity', 'Start_Time', 'Start_Lng', 'Start_Lat', 'City', \n",
    "            'State', 'Temperature(F)', 'Humidity(%)', 'Pressure(in)',\n",
    "            'Visibility(mi)', 'Wind_Speed(mph)', 'Precipitation(in)',\n",
    "            'Weather_Condition']\n",
    "# En pyspark se usa la funcion col() para crear el objeto fuera del schema\n",
    "accidentes = accidentes.select([col(c) for c in columnas])\n",
    "accidentes = accidentes.na.drop()\n",
    "\n",
    "# Debemos separar la la columna Start_Time a valores numericos\n",
    "# para que esta sea admitida por el modelo de ML.\n",
    "\n",
    "# Spark tiene sus funciones correspondientes para lograr esto\n",
    "accidentes = accidentes.withColumn(\"Year\", year(\"Start_Time\")) \\\n",
    "           .withColumn(\"Month\", month(\"Start_Time\")) \\\n",
    "           .withColumn(\"Day\", dayofmonth(\"Start_Time\")) \\\n",
    "           .withColumn(\"Hour\", hour(\"Start_Time\")) \\\n",
    "           .withColumn(\"Minute\", minute(\"Start_Time\"))\n",
    "accidentes.show(5)"
   ]
  },
  {
   "cell_type": "code",
   "execution_count": 5,
   "metadata": {},
   "outputs": [
    {
     "name": "stdout",
     "output_type": "stream",
     "text": [
      "+--------------------+--------+\n",
      "|            features|Severity|\n",
      "+--------------------+--------+\n",
      "|(12485,[0,1,2,3,4...|       3|\n",
      "|(12485,[0,1,2,3,4...|       3|\n",
      "|(12485,[0,1,2,3,4...|       3|\n",
      "|(12485,[0,1,2,3,4...|       2|\n",
      "|(12485,[0,1,2,3,4...|       2|\n",
      "+--------------------+--------+\n",
      "only showing top 5 rows\n",
      "\n"
     ]
    }
   ],
   "source": [
    "# StringIndexer() para darle valores numericos a la variable 'Weather_Condition', \n",
    "# luego aplicamos OneHotEncoder(); que convierte la categorizacion previa a forma binaria\n",
    "weather_indexer = StringIndexer(inputCol=\"Weather_Condition\", outputCol=\"Weather_Condition_Indexed\")\n",
    "weather_encoder = OneHotEncoder(inputCol=\"Weather_Condition_Indexed\", outputCol=\"Weather_Condition_Encoded\")\n",
    "\n",
    "# Codificar City\n",
    "city_indexer = StringIndexer(inputCol=\"City\", outputCol=\"City_Indexed\")\n",
    "city_encoder = OneHotEncoder(inputCol=\"City_Indexed\", outputCol=\"City_Encoded\")\n",
    "\n",
    "# Codificar State\n",
    "state_indexer = StringIndexer(inputCol=\"State\", outputCol=\"State_Indexed\")\n",
    "state_encoder = OneHotEncoder(inputCol=\"State_Indexed\", outputCol=\"State_Encoded\")\n",
    "\n",
    "# VectorAssembler() fusiona varias columnas en un 'vector columna'\n",
    "assembler = VectorAssembler(inputCols=['Year', 'Month', 'Day', 'Hour', 'Minute', \n",
    "                                       'Start_Lng', 'Start_Lat', 'City_Encoded', \n",
    "                                       'State_Encoded', 'Temperature(F)', 'Humidity(%)', \n",
    "                                       'Pressure(in)','Visibility(mi)', 'Wind_Speed(mph)', \n",
    "                                       'Precipitation(in)', 'Weather_Condition_Encoded'], \n",
    "                            outputCol=\"features\")\n",
    "\n",
    "# Pipeline: indexer, encoder y assembler son clases (no se han ejecutado)\n",
    "# se llamara a estas transformaciones desde un Pipeline\n",
    "pipeline = Pipeline(stages=[\n",
    "    city_indexer, city_encoder,\n",
    "    state_indexer, state_encoder,\n",
    "    weather_indexer, weather_encoder,\n",
    "    assembler\n",
    "])\n",
    "model = pipeline.fit(accidentes)\n",
    "transformed_data = model.transform(accidentes)\n",
    "\n",
    "# Mostrar datos transformados\n",
    "transformed_data.select(\"features\", \"Severity\").show(5)"
   ]
  }
 ],
 "metadata": {
  "kernelspec": {
   "display_name": "Python 3",
   "language": "python",
   "name": "python3"
  },
  "language_info": {
   "codemirror_mode": {
    "name": "ipython",
    "version": 3
   },
   "file_extension": ".py",
   "mimetype": "text/x-python",
   "name": "python",
   "nbconvert_exporter": "python",
   "pygments_lexer": "ipython3",
   "version": "3.11.4"
  }
 },
 "nbformat": 4,
 "nbformat_minor": 2
}
